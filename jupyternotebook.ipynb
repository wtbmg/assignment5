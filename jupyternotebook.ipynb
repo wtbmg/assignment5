{
 "cells": [
  {
   "cell_type": "markdown",
   "id": "0306bab6-f97e-43f0-804d-0f3c6dbfce37",
   "metadata": {},
   "source": [
    "created through jupyter lab"
   ]
  }
 ],
 "metadata": {
  "kernelspec": {
   "display_name": "Python 3 (ipykernel)",
   "language": "python",
   "name": "python3"
  },
  "language_info": {
   "codemirror_mode": {
    "name": "ipython",
    "version": 3
   },
   "file_extension": ".py",
   "mimetype": "text/x-python",
   "name": "python",
   "nbconvert_exporter": "python",
   "pygments_lexer": "ipython3",
   "version": "3.9.12"
  }
 },
 "nbformat": 4,
 "nbformat_minor": 5
}
